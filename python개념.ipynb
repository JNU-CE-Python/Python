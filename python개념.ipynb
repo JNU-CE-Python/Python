{
 "cells": [
  {
   "cell_type": "markdown",
   "metadata": {},
   "source": [
    "### 파이썬\n",
    "+ 플랫폼 독립적이며 인터프리터 방식이며 객체지향적인 대화형 언어\n",
    "\n",
    "### 특징\n",
    "+ 읽고 코딩하기 쉬움 → 프로그래밍을 배우는 첫 언어로 많이 선택\n",
    "+ 객체지향이면서 절차 지향 → 소소한 프로그램은 객체를 만들 필요없이 간단한 코드로 작성 가능\n",
    "+ 강력함 → 파이썬으로 우리가 생각하는 대부분의 일을 할 수 있음 \n",
    "\n",
    "### 프로그램 작성 시 주의사항\n",
    "+ 매우 엄격한 규칙을 따름\n",
    "+ 기호 사용: 대괄호([])와 중괄호({}) 또는 세미콜론(;)과 콜론(:) 또는 점(.)과 쉼표(,)와 같이 유사한 모양이지만 그 기능이 다르기 때문에 정확하게 사용해야 함\n",
    "+ 공백 사용: 특히 파이썬에서는 프로그램 안에 공백을 어떻게 넣는지가 매우 중요함."
   ]
  },
  {
   "cell_type": "markdown",
   "metadata": {},
   "source": [
    "# 파이썬 기본 문법\n",
    "\n",
    "-------------\n",
    " ##  주석문\n",
    "-------------"
   ]
  },
  { 
   "cell_type": "markdown",
   "metadata": {},
   "source": [
    "+ 한줄 주석: #\n",
    "+ 여러 줄 주석: \"\"\" ~ \"\"\" 또는 ''' ~ '''"
   ]
  },
  {
   "cell_type": "code",
   "execution_count": null,
   "metadata": {},
   "outputs": [],
   "source": [
    "# 주석문: 프로그램에 대한 설명\n",
    "\n",
    "print(2022)\n",
    "print(5 + 12)  # 주석문"
   ]
  },
  {
   "cell_type": "code",
   "execution_count": null,
   "metadata": {},
   "outputs": [],
   "source": [
    "'''\n",
    "print() 함수의 사용법\n",
    "\n",
    " * print(출력대상1, 출력대상2, ...)\n",
    " * 마지막 문자열을 출력하고 출력할문자는 end를 기술 (기본값 : 줄바꿈문자)\n",
    "'''\n",
    "print(\"하나\", \"둘\", \"셋\", 1, 2, 3)\n",
    "print(\"첫번째 값\")\n",
    "print(\"두번째 값\") # 다른 줄에 출력\n",
    "print(\"첫번째 값\", end=\" ---> \")\n",
    "print(\"두번째 값\") # 같은 줄에 출력"
   ]
  },
  {
   "cell_type": "markdown",
   "metadata": {
    "id": "j6ZYZMSOwSSl"
   },
   "source": [
    "## 데이터 타입\n",
    "-------------"
   ]
  },
  {
   "cell_type": "markdown",
   "metadata": {
    "id": "jsp1esiEwSSm"
   },
   "source": [
    "### 숫자\n",
    "+ 정수형\n",
    "Integer\n",
    "+ 실수형\n",
    "Float\n",
    "-------------"
   ]
  },
  {
   "cell_type": "markdown",
   "metadata": {
    "id": "Gn0qRul8wSSm"
   },
   "source": [
    "####  **정수형**\n",
    "양수 , 음수 , 0 의 정수형 자료"
   ]
  },
  {
   "cell_type": "code",
   "execution_count": null,
   "metadata": {
    "id": "Gzm21pInwSSp"
   },
   "outputs": [],
   "source": [
    "type(189)\n",
    "type(-1162)\n",
    "type(0)"
   ]
  },
  {
   "cell_type": "markdown",
   "metadata": {
    "id": "4g6s2q7twSSu"
   },
   "source": [
    "####  **실수형**\n",
    "소수점이 포함되는 숫자 "
   ]
  },
  {
   "cell_type": "code",
   "execution_count": null,
   "metadata": {
    "id": "aByv_Pn0wSSu"
   },
   "outputs": [
    {
     "name": "stdout",
     "output_type": "stream",
     "text": [
      "<class 'float'>\n",
      "<class 'float'>\n",
      "<class 'float'>\n"
     ]
    }
   ],
   "source": [
    "print(type (1.19))\n",
    "print(type(-0.12))\n",
    "print(type(0.0))"
   ]
  },
  {
   "cell_type": "markdown",
   "metadata": {
    "id": "TJnLrUkMwSSw"
   },
   "source": [
    "####  **산술연산자**\n",
    "+ 덧셈(+)\n",
    "+ 뺄셈(-)\n",
    "+ 곱셈(*)\n",
    "+ 나눗셈 몫(/)\n",
    "+ 정수값의 나눗셈 몫(//)\n",
    "+ 나눗셈 나머지(%)\n",
    "+ 거듭제곱(**)"
   ]
  },
  {
   "cell_type": "code",
   "execution_count": null,
   "metadata": {
    "id": "FCDdjEiLwSSx"
   },
   "outputs": [],
   "source": [
    "a = 22 #변수 할당 시, 예약어 사용하지 않기 \n",
    "print(a)"
   ]
  },
  {
   "cell_type": "markdown",
   "metadata": {
    "id": "JvgEj9cnwSSx"
   },
   "source": [
    "+ 덧셈과 뺄셈"
   ]
  },
  {
   "cell_type": "code",
   "execution_count": null,
   "metadata": {
    "id": "OmmTTIPjwSS2"
   },
   "outputs": [],
   "source": [
    "a = 22 # a 변수에 11 저장 \n",
    "b = 10  # b 변수에 5 저장 \n",
    "\n",
    "# a + b 출력하기\n",
    "print(a + b)\n",
    "\n",
    "# a + b의 type 출력하기 \n",
    "print(type(a+b))"
   ]
  },
  {
   "cell_type": "code",
   "execution_count": null,
   "metadata": {
    "id": "oTR8uvcDwSS4"
   },
   "outputs": [],
   "source": [
    "c = 6.0\n",
    "\n",
    "# a - c 출력하기 \n",
    "print(a - c)\n",
    "\n",
    "# a - c의 type 출력하기\n",
    "# float , int 형을 이용하여 사칙연산 시행시 float 으로 변환\n",
    "print(type(a-c))"
   ]
  },
  {
   "cell_type": "markdown",
   "metadata": {
    "id": "RG_z7bQ2wSS6"
   },
   "source": [
    "+ 곱셈과 나눗셈"
   ]
  },
  {
   "cell_type": "code",
   "execution_count": null,
   "metadata": {
    "id": "72RllPc_wSS6"
   },
   "outputs": [],
   "source": [
    "a = 10\n",
    "b = 3\n",
    "\n",
    "#곱하기\n",
    "print(a * b)\n",
    "\n",
    "#나누기\n",
    "print(a / b)\n",
    "\n",
    "# 제곱\n",
    "print(a ** b)\n"
   ]
  },
  {
   "cell_type": "markdown",
   "metadata": {
    "id": "GyeMzOupwSS8"
   },
   "source": [
    "+ 몫과 나머지"
   ]
  },
  {
   "cell_type": "code",
   "execution_count": null,
   "metadata": {
    "id": "-d28K1WWwSS9",
    "scrolled": true
   },
   "outputs": [],
   "source": [
    "a = 10\n",
    "b = 3\n",
    "\n",
    "# 몫만 구하기\n",
    "print(a // b)\n",
    "\n",
    "# 나머지 반환\n",
    "print(a % b)"
   ]
  },
  {
   "cell_type": "markdown",
   "metadata": {
    "id": "Fvg5l42HwSS_"
   },
   "source": [
    "####  **복합 대입 연산자**\n",
    "+ x += y : x = x + y\n",
    "+ x -= y : x = x - y\n",
    "+ x *= y : x = x * y\n",
    "+ x /= y : x = x / y\n",
    "+ x //= y : x = x // y\n",
    "+ x %= y : x = x % y\n",
    "+ x **= y : x = x ** y"
   ]
  },
  {
   "cell_type": "code",
   "execution_count": null,
   "metadata": {
    "id": "9OBxs6CpwSS_"
   },
   "outputs": [],
   "source": [
    "x = 5\n",
    "x += 1\n",
    "print(x)"
   ]
  },
  {
   "cell_type": "markdown",
   "metadata": {
    "id": "jgHJJ6Y6wSTD"
   },
   "source": [
    "------------------------"
   ]
  },
  {
   "cell_type": "markdown",
   "metadata": {
    "id": "T4ZwYa-XwSTD"
   },
   "source": [
    "###  문자열\n",
    "+ 단어, 문자들로 구성된 집합\n",
    "+ **' '**  혹은 **\" \"**  로 둘러싸서 문자열 표현\n",
    "---------------"
   ]
  },
  {
   "cell_type": "code",
   "execution_count": 1,
   "metadata": {
    "id": "gqdsXMqQwSTG"
   },
   "outputs": [
    {
     "data": {
      "text/plain": [
       "'Hello'"
      ]
     },
     "execution_count": 1,
     "metadata": {},
     "output_type": "execute_result"
    }
   ],
   "source": [
    "'Hello'"
   ]
  },
  {
   "cell_type": "code",
   "execution_count": null,
   "metadata": {
    "id": "3SM-aJ8RwSTI"
   },
   "outputs": [],
   "source": [
    "\"안녕하세요\""
   ]
  },
  {
   "cell_type": "code",
   "execution_count": 2,
   "metadata": {
    "id": "V24OfUtNwSTK"
   },
   "outputs": [
    {
     "data": {
      "text/plain": [
       "str"
      ]
     },
     "execution_count": 2,
     "metadata": {},
     "output_type": "execute_result"
    }
   ],
   "source": [
    "type('Hello')"
   ]
  },
  {
   "cell_type": "markdown",
   "metadata": {
    "id": "bH2rZe69wSTU"
   },
   "source": [
    "***  \n",
    "> 자주 사용 되는 **`이스케이프 코드`** 알아보기\n",
    "\n",
    "    \\n\t:  문자열 안에서 줄을 바꿀 때 사용  \n",
    "    \\t\t:  문자열 사이에 탭 간격을 줄 때 사용  \n",
    "    \\\\\t:  문자 \\를 그대로 표현할 때 사용  \n",
    "    \\'\t:  작은따옴표(')를 그대로 표현할 때 사용  \n",
    "    \\\"\t:  큰따옴표(\")를 그대로 표현할 때 사용  \n",
    "***"
   ]
  },
  {
   "cell_type": "code",
   "execution_count": null,
   "metadata": {
    "id": "Z3Fw8u50wSTV"
   },
   "outputs": [],
   "source": [
    "print('Hello \\n \\t \\'World\\' \\n')"
   ]
  },
  {
   "cell_type": "markdown",
   "metadata": {
    "id": "l9d36beewSTW"
   },
   "source": [
    "####  **문자열의 사칙 연산:**\n",
    "+ 파이썬은 문자열도 덧셈과 곱셉 가능"
   ]
  },
  {
   "cell_type": "code",
   "execution_count": null,
   "metadata": {
    "colab": {
     "base_uri": "https://localhost:8080/"
    },
    "executionInfo": {
     "elapsed": 325,
     "status": "ok",
     "timestamp": 1630889840569,
     "user": {
      "displayName": "이정훈",
      "photoUrl": "",
      "userId": "09219725777925802240"
     },
     "user_tz": -540
    },
    "id": "tUgpS4lXwSTX",
    "outputId": "0862b29b-930c-4297-b6fc-2bea5a33f2ee"
   },
   "outputs": [
    {
     "name": "stdout",
     "output_type": "stream",
     "text": [
      "Hello~ Python\n"
     ]
    }
   ],
   "source": [
    "a = 'Hello~'\n",
    "b = 'Python' \n",
    "# a + b 출력하기\n",
    "print(a + ' ' + b)"
   ]
  },
  {
   "cell_type": "code",
   "execution_count": null,
   "metadata": {
    "colab": {
     "base_uri": "https://localhost:8080/"
    },
    "executionInfo": {
     "elapsed": 322,
     "status": "ok",
     "timestamp": 1630889765721,
     "user": {
      "displayName": "이정훈",
      "photoUrl": "",
      "userId": "09219725777925802240"
     },
     "user_tz": -540
    },
    "id": "jXxwvxIewSTZ",
    "outputId": "a62c3e58-9504-462b-8252-36999c57493a"
   },
   "outputs": [
    {
     "name": "stdout",
     "output_type": "stream",
     "text": [
      "Python Python \n",
      "Python Python Python Python Python Python Python Python Python Python \n"
     ]
    }
   ],
   "source": [
    "c = 'Python '\n",
    "\n",
    "print(c*2)\n",
    "print(c*10)"
   ]
  },
  {
   "cell_type": "markdown",
   "metadata": {
    "id": "eGOCTokFwSTa"
   },
   "source": [
    "####  **문자열 길이 구하기**"
   ]
  },
  {
   "cell_type": "code",
   "execution_count": null,
   "metadata": {
    "id": "Y5TJg1GEwSTb"
   },
   "outputs": [],
   "source": [
    "msg = 'Hello~ Python'\n",
    "\n",
    "len(msg) # 파이썬 내장함수인 len 은 띄어쓰기를 포함한 문자열의 길이를 반환해 줍니다"
   ]
  },
  {
   "cell_type": "markdown",
   "metadata": {
    "id": "NNczg7xjwSTd"
   },
   "source": [
    "####  **인덱싱: 원하는 특정 문자만 뽑아내기**"
   ]
  },
  {
   "cell_type": "code",
   "execution_count": null,
   "metadata": {
    "id": "FlosltrtwSTe"
   },
   "outputs": [],
   "source": [
    "msg[0]  # 첫번째 문자만 출력"
   ]
  },
  {
   "cell_type": "code",
   "execution_count": null,
   "metadata": {
    "id": "ydzMZQOGwSTm"
   },
   "outputs": [],
   "source": [
    "msg[-1]   # 마지막 문자 출력"
   ]
  },
  {
   "cell_type": "code",
   "execution_count": null,
   "metadata": {
    "id": "LghUDTxUwSTn"
   },
   "outputs": [],
   "source": [
    "msg[-6:]"
   ]
  },
  {
   "cell_type": "markdown",
   "metadata": {
    "id": "e_zMGRHYwSTp"
   },
   "source": [
    "####  **슬라이싱: 지정한 범위의 문자열 뽑아내기**"
   ]
  },
  {
   "cell_type": "code",
   "execution_count": null,
   "metadata": {
    "id": "ufYbSkYIwSTp"
   },
   "outputs": [],
   "source": [
    "msg[0:2]  # 인텍스 0은 포함, 2는 포함하지 않음. 즉 0과 1번째 문자만 뽑아냄"
   ]
  },
  {
   "cell_type": "code",
   "execution_count": null,
   "metadata": {
    "id": "6Agb9nm9wSTq"
   },
   "outputs": [],
   "source": [
    "msg[6:]  # 6번째 문자 부터 끝까지 출력"
   ]
  },
  {
   "cell_type": "code",
   "execution_count": null,
   "metadata": {
    "id": "nnHc5pk1wSTs"
   },
   "outputs": [],
   "source": [
    "msg[ :6] # 처음부터 5번째까지 출력"
   ]
  },
  {
   "cell_type": "markdown",
   "metadata": {
    "id": "2mr-RTj9wSTv"
   },
   "source": [
    "  \n",
    "  \n",
    "  \n",
    "  \n",
    "  ----------------\n",
    "    "
   ]
  },
  {
   "cell_type": "markdown",
   "metadata": {
    "id": "wc9lNh1hwSTv"
   },
   "source": [
    "###  리스트\n",
    "+ 숫자형 자료와 문자열 자료 등을 하나의 집합으로 모을 수 있는 리스트\n",
    "+ 여러 항목을 저장하고 관리하고 싶을 때 사용\n",
    "+ 다양한 데이터 타입이 혼재된 리스트도 가능\n",
    "-----------------"
   ]
  },
  {
   "cell_type": "code",
   "execution_count": null,
   "metadata": {
    "id": "QrOogB9XwSTv"
   },
   "outputs": [],
   "source": [
    "# 여러 가지 구조의 리스트 \n",
    "a = []  # 비어있는 리스트\n",
    "b = [0, 1, 2]   # 숫자형 자료가 들어있는 리스트\n",
    "c = ['Data', 'Science', 'too', 'easy']   # 문자열 자료\n",
    "d = [0, 1, 'Data', 'science'] # 숫자 + 문자열\n",
    "e = [2, 0, ['too', 'easy']]  # 숫자 + 문자열 리스트 - 리스트가 포함된 중첩 리스트 구조"
   ]
  },
  {
   "cell_type": "code",
   "execution_count": null,
   "metadata": {
    "id": "nH0BhKBcwSTx"
   },
   "outputs": [],
   "source": [
    "print(type(a), '\\n')\n",
    "print(a , '\\n')\n",
    "print(b , '\\n')\n",
    "print(c , '\\n')\n",
    "print(d , '\\n')\n",
    "print(e , '\\n')"
   ]
  },
  {
   "cell_type": "markdown",
   "metadata": {
    "id": "2mr-RTj9wSTv"
   },
   "source": [
    "  \n",
    "  \n",
    "  \n",
    "  \n",
    "  ----------------\n",
    "    "
   ]
  },
  {
   "cell_type": "markdown",
   "metadata": {
    "id": "UUiF5IQxwSTz"
   },
   "source": [
    "####  **리스트 자료  심화**\n",
    "+ 리스트 길이 구하기\n",
    "+ 인덱싱\n",
    "+ 슬라이싱 \n",
    "+ 리스트 관련 함수"
   ]
  },
  {
   "cell_type": "code",
   "execution_count": null,
   "metadata": {
    "id": "1GCrVmGAwSTz"
   },
   "outputs": [],
   "source": [
    "count = [1, 2, 3, 4, 5]\n",
    "cars = ['버스', '트럭', '승용차', '밴']\n",
    "won = [1000, '1달러', 2000, '2달러', 3000, '3달러']"
   ]
  },
  {
   "cell_type": "code",
   "execution_count": null,
   "metadata": {
    "id": "hGTklYoe7JyG"
   },
   "outputs": [],
   "source": [
    "print(count)"
   ]
  },
  {
   "cell_type": "code",
   "execution_count": null,
   "metadata": {
    "id": "uwa0fuU57N0W"
   },
   "outputs": [],
   "source": [
    "print(cars)"
   ]
  },
  {
   "cell_type": "code",
   "execution_count": null,
   "metadata": {
    "id": "KtNYMbMh7Ovo"
   },
   "outputs": [],
   "source": [
    "print(won)"
   ]
  },
  {
   "cell_type": "code",
   "execution_count": null,
   "metadata": {
    "id": "sbG6P8lW7VMD"
   },
   "outputs": [],
   "source": [
    "# 리스트 값 변경하기\n",
    "count[3] = 9\n",
    "print(count)"
   ]
  },
  {
   "cell_type": "code",
   "execution_count": null,
   "metadata": {
    "id": "VEwDrJcrwST1"
   },
   "outputs": [],
   "source": [
    "## 리스트 길이 구하기\n",
    "len(cars) "
   ]
  },
  {
   "cell_type": "code",
   "execution_count": null,
   "metadata": {
    "id": "tzjlVNmqwST3"
   },
   "outputs": [],
   "source": [
    "## 리스트 인덱싱과 슬라이싱\n",
    "print(cars[1], '\\n')\n",
    "print(cars[1:4], '\\n')\n",
    "\n",
    "### 리스트에서 인덱싱과 슬라이싱을 했을때의 자료 Type! \n",
    "print(type(cars[1]) ,'\\n')\n",
    "print(type(cars[1:3]))"
   ]
  },
  {
   "cell_type": "code",
   "execution_count": null,
   "metadata": {
    "id": "MmbCYQZT8K8Q"
   },
   "outputs": [],
   "source": [
    "# 반대방향으로 인덱스 사용 가능\n",
    "print(cars[-1])\n",
    "print(cars[-2])"
   ]
  },
  {
   "cell_type": "code",
   "execution_count": null,
   "metadata": {
    "id": "0uYl-fsZ83Ro"
   },
   "outputs": [],
   "source": [
    "# 다양한 리스트 슬라이싱\n",
    "print(cars[:2]) # 시작 인덱스를 생략하면 첫 번째 항목부터 시작\n",
    "print(cars[1:]) # 끝 인덱스를 생략하면 마지막 항목까지\n",
    "print(cars[:]) # 시작과 끝 인덱스를 모두 생략하면 모든 항목"
   ]
  },
  {
   "cell_type": "markdown",
   "metadata": {
    "id": "0MFI3dQiwST4"
   },
   "source": [
    "####  **리스트 연산**"
   ]
  },
  {
   "cell_type": "code",
   "execution_count": null,
   "metadata": {
    "id": "Rp5_FYh-wST4"
   },
   "outputs": [],
   "source": [
    "a = [1, 2, 3]\n",
    "b = [4, 5, 6]\n",
    "\n",
    "print(a+b)"
   ]
  },
  {
   "cell_type": "code",
   "execution_count": null,
   "metadata": {
    "id": "56IcdeADwST6"
   },
   "outputs": [],
   "source": [
    "a = [1, 2, 3]\n",
    "b = ['Hello', 'World']\n",
    "\n",
    "print(a*2)\n",
    "print(a+b)"
   ]
  },
  {
   "cell_type": "markdown",
   "metadata": {
    "id": "lVUAJJPHwST7"
   },
   "source": [
    "- 주의 할 점\n",
    " - 아래와 같이 서로 다른 Type 의 자료형을 더해줄 경우에는 Error 가 뜹니다 \n",
    " - 같은 자료 구조 끼리만 연산 가능   ex) 숫자&숫자 , 문자&문자, 리스트&리스트"
   ]
  },
  {
   "cell_type": "code",
   "execution_count": null,
   "metadata": {
    "id": "ByHEC5IBwST7"
   },
   "outputs": [],
   "source": [
    "print( a[0] + b[1])"
   ]
  },
  {
   "cell_type": "markdown",
   "metadata": {
    "id": "TK697OZ_wST9"
   },
   "source": [
    "[링크 텍스트](https://)#### **리스트 관련 메소드**"
   ]
  },
  {
   "cell_type": "code",
   "execution_count": null,
   "metadata": {
    "id": "QugQSgzvwST9"
   },
   "outputs": [],
   "source": [
    "colors = ['red', 'blue', 'yellow']"
   ]
  },
  {
   "cell_type": "code",
   "execution_count": null,
   "metadata": {
    "id": "MsvUl9LuwST-"
   },
   "outputs": [],
   "source": [
    "colors"
   ]
  },
  {
   "cell_type": "code",
   "execution_count": null,
   "metadata": {
    "id": "TiMTtgs2CVrO"
   },
   "outputs": [],
   "source": [
    "## 리스트에서 요소의 인덱스 값 가져오기: index()\n",
    "print('blue의 인덱스: ', colors.index('blue'))"
   ]
  },
  {
   "cell_type": "code",
   "execution_count": null,
   "metadata": {
    "id": "TK9uUJBPwSUA",
    "scrolled": true
   },
   "outputs": [],
   "source": [
    "## 리스트에 요소 추가하기: append()\n",
    "\n",
    "colors.append('white')\n",
    "print(colors)"
   ]
  },
  {
   "cell_type": "code",
   "execution_count": null,
   "metadata": {
    "id": "_EUCpqkCDIOL"
   },
   "outputs": [],
   "source": [
    "## 리스트에 리스트 추가하기: extend()\n",
    "\n",
    "colors.extend(['gray', 'purple'])\n",
    "print(colors)"
   ]
  },
  {
   "cell_type": "code",
   "execution_count": null,
   "metadata": {
    "id": "2GyslcGWwSUB"
   },
   "outputs": [],
   "source": [
    "## 원하는 위치에 요소 삽입하기: insert()\n",
    "\n",
    "colors.insert(1, 'black')\n",
    "print(colors)"
   ]
  },
  {
   "cell_type": "code",
   "execution_count": null,
   "metadata": {
    "id": "Fi9g0fCywSUD"
   },
   "outputs": [],
   "source": [
    "## 리스트 요소 제거 : remove\n",
    "# remove(*)는 리스트에서 첫 번째로 나오는 *을 삭제하는 함수입니다\n",
    "\n",
    "colors.remove('black')\n",
    "print(colors)"
   ]
  },
  {
   "cell_type": "code",
   "execution_count": null,
   "metadata": {
    "id": "RMWcRZqEwSUH"
   },
   "outputs": [],
   "source": [
    "## 리스트 정렬 : sort()\n",
    "\n",
    "colors.sort()\n",
    "print(colors)"
   ]
  },
  {
   "cell_type": "code",
   "execution_count": null,
   "metadata": {
    "id": "0_mNgpzlwSUI",
    "scrolled": true
   },
   "outputs": [],
   "source": [
    "## 역순으로 정렬\n",
    "\n",
    "colors.sort(reverse= True)  # 역순을 True 로 설정하면!\n",
    "print(colors) #  거꾸로 배열이 됨을 확인 할 수 있습니다"
   ]
  },
  {
   "cell_type": "markdown",
   "metadata": {
    "id": "JqyRj3xZwSUL"
   },
   "source": [
    "----------------\n",
    "  \n",
    " "
   ]
  },
  {
   "cell_type": "markdown",
   "metadata": {
    "id": "dXyPfqPBwSUL"
   },
   "source": [
    "### 튜플\n",
    "+ 리스트와 거의 유사하지만 차이점은 값을 **수정 및 삭제** 가 불가하다는 점\n",
    "+ 부가 기능이 없기 때문에, 튜플 속에 더 많은 데이터를 저장할 수 있는 장점"
   ]
  },
  {
   "cell_type": "code",
   "execution_count": null,
   "metadata": {
    "id": "L4VT5tcZwSUL"
   },
   "outputs": [],
   "source": [
    "tp = (1,2,3,4)\n",
    "print(tp)"
   ]
  },
  {
   "cell_type": "code",
   "execution_count": null,
   "metadata": {
    "id": "6VKlCq-mwSUN",
    "scrolled": true
   },
   "outputs": [],
   "source": [
    "tp.append(5)  # 5 를 추가하려하자 Error 가 발생!"
   ]
  },
  {
   "cell_type": "markdown",
   "metadata": {
    "id": "bQRUxLS6wSUO"
   },
   "source": [
    "----------------------"
   ]
  },
  {
   "cell_type": "markdown",
   "metadata": {
    "id": "iqHvT0v9wSUO"
   },
   "source": [
    "#### 딕셔너리(Dictionary)\n",
    "  \n",
    "     이름: XXX  \n",
    "     출생년도 : 2001\n",
    "       \n",
    "\n",
    "+ 위와 같이 대응 되는 구조를 갖는 자료\n",
    "\n",
    "+ Key 를 통해 Value를 얻는 구조  \n",
    "\n",
    "+ *{Key1:Value1,  Key2:Value2,  Key3:Value3,  ...}*  \n"
   ]
  },
  {
   "cell_type": "markdown",
   "metadata": {
    "id": "r1fyR7iewSUP"
   },
   "source": [
    "딕셔너리에서 Key 를 사용하여 Value 얻기\n",
    "\n",
    "    아이유의 인기곡을 불러옵시다 \n",
    "    \n",
    "    Dict['Key'] 와 같이 대괄호를 이용하여 불러옵니다 "
   ]
  },
  {
   "cell_type": "markdown",
   "metadata": {
    "id": "fUD-yYMVwSUR"
   },
   "source": [
    "딕셔너리의 Key   or   Value 만 얻기  \n",
    "    \n",
    "    keys() 함수와 values() 함수를 이용합니다  "
   ]
  },
  {
   "cell_type": "markdown",
   "metadata": {
    "id": "u0N2GRtJLIiY"
   },
   "source": [
    "--------------"
   ]
  },
  {
   "cell_type": "markdown",
   "metadata": {
    "id": "5EpS9uUMwSUS"
   },
   "source": [
    "##  함수\n",
    "----------------"
   ]
  },
  {
   "cell_type": "markdown",
   "metadata": {
    "id": "0hwcP7GfwSUT"
   },
   "source": [
    "+ 함수는 들어온 입력값을 받아 어떤 처리를 하여 적절한 결과값을 돌려준다.\n",
    "\n",
    "![함수](https://blog.kakaocdn.net/dn/cQhYrR/btqGUfaAgXl/FgfuGJaytlWdxGUUSkD4C1/img.png)"
   ]
  },
  {
   "cell_type": "markdown",
   "metadata": {
    "id": "SUrwqnPzQe0x"
   },
   "source": [
    "-------------"
   ]
  },
  {
   "cell_type": "markdown",
   "metadata": {
    "id": "F8rvKx5OwSUX"
   },
   "source": [
    "##  제어문\n",
    "---------------------"
   ]
  },
  {
   "cell_type": "markdown",
   "metadata": {
    "id": "HehnlXFRwSUX"
   },
   "source": [
    "###  IF 문 \n",
    "\n",
    "```\n",
    "if 조건식:\n",
    "    수행할 명령문1\n",
    "else:\n",
    "    수행할 명령문2\n",
    "```"
   ]
  },
  {
   "cell_type": "markdown",
   "metadata": {
    "id": "9bKIycH1wSUX"
   },
   "source": [
    "> **비교 연산자**"
   ]
  },
  {
   "cell_type": "markdown",
   "metadata": {
    "id": "9ADR_ghTREBQ"
   },
   "source": [
    "![비교 연산자](https://blog.kakaocdn.net/dn/2A3ZF/btqGSsVNSCx/lutakKLOiD7ScVJbyDhEFk/img.png)"
   ]
  },
  {
   "cell_type": "code",
   "execution_count": null,
   "metadata": {
    "id": "qV3ihoaPwSUY"
   },
   "outputs": [
    {
     "data": {
      "text/plain": [
       "True"
      ]
     },
     "metadata": {},
     "output_type": "display_data"
    }
   ],
   "source": [
    "2 != 3"
   ]
  },
  {
   "cell_type": "markdown",
   "metadata": {
    "id": "AO2MElZTwSUd"
   },
   "source": [
    " **IF + ELIF 조건문**   \n",
    "\n",
    " ```\n",
    "if 조건식1:\n",
    "    수행할 명령문1\n",
    "elif 조건식2:\n",
    "    수행할 명령문2\n",
    "else:\n",
    "    수행할 명령문3\n",
    "```"
   ]
  },
  {
   "cell_type": "markdown",
   "metadata": {
    "id": "O9gTrjVJwSUg"
   },
   "source": [
    "> ***파이썬의 다양한 조건문***  \n",
    "파이썬은  `in` 과 `not in` 등의 조건문도 사용가능합니다"
   ]
  },
  {
   "cell_type": "markdown",
   "metadata": {
    "id": "HJPRCEJ9wSUk"
   },
   "source": [
    "####  반복문: FOR문"
   ]
  },
  {
   "cell_type": "markdown",
   "metadata": {
    "id": "wfjbwtlpwSUk"
   },
   "source": [
    "for문의 기본 구조  \n",
    "  \n",
    ">for 변수 in 리스트 (또는 튜플, 문자열):  \n",
    ">>    수행할 문장1  \n",
    "      수행할 문장2  \n",
    "    ...  \n",
    "    "
   ]
  },
  {
   "cell_type": "markdown",
   "metadata": {
    "id": "5ZbZLabCUF4t"
   },
   "source": [
    "+ range(시작, 끝, 증가값)\n",
    "> + 시작값은 포함(이상), 끝값은 미포함(미만), 증가값씩 커지는 숫자 리스트를 생성하는 함수\n",
    "> + 시작과 증가값은 생략 가능\n",
    "> + 시작값을 생략하면 0, 증가값을 생략하면 1"
   ]
  },
  {
   "cell_type": "markdown",
   "metadata": {
    "id": "ck1dd-Q9wSUo"
   },
   "source": [
    "####  반복문: WHILE문\n",
    "\n",
    "While 반복문의 기본 구조\n",
    "\n",
    ">while 조건문:  \n",
    ">>    수행할 문장1  \n",
    "      수행할 문장2  \n",
    "    ...  \n",
    "    "
   ]
  },
  {
   "cell_type": "markdown",
   "metadata": {
    "id": "CM9HT_1xwSUq"
   },
   "source": [
    "#### 반복문 중지: break문  \n",
    "+ 반복문을 중지하기 위한 명령어로 주로 if문과 함께 사용\n",
    "+ 중첩 반복문에서 사용하면 가장 가까운 반복문을 중지함"
   ]
  },
  {
   "cell_type": "code",
   "execution_count": null,
   "metadata": {
    "id": "rFjTPg8vwSUq",
    "scrolled": true
   },
   "outputs": [],
   "source": [
    "while True:\n",
    "    print('Continue or Stop? [c/s]: ')\n",
    "    an = input()\n",
    "    if an == 'c':\n",
    "      print('>> continue again!')\n",
    "    elif an == 's':\n",
    "      print('>> stop here!')\n",
    "      break\n",
    "    else:\n",
    "      print('>> wrong answer!')"
   ]
  },
  {
   "cell_type": "markdown",
   "metadata": {
    "id": "a3jRly38wSUr"
   },
   "source": [
    "_________________"
   ]
  },
  {
   "cell_type": "markdown",
   "metadata": {
    "id": "LwgoPBeywSUr"
   },
   "source": [
    "##  모듈 \n",
    "---------------------"
   ]
  },
  {
   "cell_type": "markdown",
   "metadata": {
    "id": "dcBRbrEcY8hN"
   },
   "source": [
    "+ 모듈이란 함수와 그 외의 것들을 모아 놓은 파이썬 파일"
   ]
  },
  {
   "cell_type": "code",
   "execution_count": null,
   "metadata": {
    "id": "dgdeZ_fzwSUs"
   },
   "outputs": [],
   "source": [
    "import random  #random 이라는 모듈을 불러오겠다.\n",
    "\n",
    "a = random.random()  # random 모듈에서 random() 함수를 불러와 사용하겠다 \n",
    "\n",
    "b = random.randrange(1, 10) # random 모듈에서 randrange() 함수를 불러와 사용하겠다 \n",
    "                            # 이때 함수 에 대한 설명은 `shift`+`tab`을 눌러 볼 수 있습니다. \n",
    "\n",
    "c = ['a', 'b', 'c', 'd']    # 문자 리스트에 저장 \n",
    "\n",
    "d = random.choice(c)        #리스트중 랜덤 택 1"
   ]
  }
 ],
 "metadata": {
  "kernelspec": {
   "display_name": "Python 3.7.7 64-bit",
   "language": "python",
   "name": "python3"
  },
  "language_info": {
   "codemirror_mode": {
    "name": "ipython",
    "version": 3
   },
   "file_extension": ".py",
   "mimetype": "text/x-python",
   "name": "python",
   "nbconvert_exporter": "python",
   "pygments_lexer": "ipython3",
   "version": "3.7.7"
  },
  "orig_nbformat": 4,
  "vscode": {
   "interpreter": {
    "hash": "0931057ef0634ca0c4557a9a914f8a9538d7d70f4e82d3cb0d1f8f326f7d303f"
   }
  }
 },
 "nbformat": 4,
 "nbformat_minor": 2
}
