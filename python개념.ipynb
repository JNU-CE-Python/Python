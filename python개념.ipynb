{
 "cells": [
  {
   "cell_type": "markdown",
   "metadata": {},
   "source": [
    "### 파이썬\n",
    "+ 플랫폼 독립적이며 인터프리터 방식이며 객체지향적인 대화형 언어\n",
    "\n",
    "### 특징\n",
    "+ 읽고 코딩하기 쉬움 → 프로그래밍을 배우는 첫 언어로 많이 선택\n",
    "+ 객체지향이면서 절차 지향 → 소소한 프로그램은 객체를 만들 필요없이 간단한 코드로 작성 가능\n",
    "+ 강력함 → 파이썬으로 우리가 생각하는 대부분의 일을 할 수 있음 \n",
    "\n",
    "### 프로그램 작성 시 주의사항\n",
    "+ 매우 엄격한 규칙을 따름\n",
    "+ 기호 사용: 대괄호([])와 중괄호({}) 또는 세미콜론(;)과 콜론(:) 또는 점(.)과 쉼표(,)와 같이 유사한 모양이지만 그 기능이 다르기 때문에 정확하게 사용해야 함\n",
    "+ 공백 사용: 특히 파이썬에서는 프로그램 안에 공백을 어떻게 넣는지가 매우 중요함."
   ]
  },
  {
   "cell_type": "markdown",
   "metadata": {},
   "source": [
    "# 파이썬 기본 문법\n",
    "\n",
    "-------------\n",
    " ##  주석문\n",
    "-------------"
   ]
  },
  {
   "cell_type": "markdown",
   "metadata": {},
   "source": [
    "+ 한줄 주석: #\n",
    "+ 여러 줄 주석: \"\"\" ~ \"\"\" 또는 ''' ~ '''"
   ]
  },
  {
   "cell_type": "code",
   "execution_count": null,
   "metadata": {},
   "outputs": [],
   "source": [
    "# 주석문: 프로그램에 대한 설명\n",
    "\n",
    "print(2022)\n",
    "print(5 + 12)  # 주석문"
   ]
  },
  {
   "cell_type": "code",
   "execution_count": null,
   "metadata": {},
   "outputs": [],
   "source": [
    "'''\n",
    "print() 함수의 사용법\n",
    "\n",
    " * print(출력대상1, 출력대상2, ...)\n",
    " * 마지막 문자열을 출력하고 출력할문자는 end를 기술 (기본값 : 줄바꿈문자)\n",
    "'''\n",
    "print(\"하나\", \"둘\", \"셋\", 1, 2, 3)\n",
    "print(\"첫번째 값\")\n",
    "print(\"두번째 값\") # 다른 줄에 출력\n",
    "print(\"첫번째 값\", end=\" ---> \")\n",
    "print(\"두번째 값\") # 같은 줄에 출력"
   ]
  },
  {
   "cell_type": "markdown",
   "metadata": {
    "id": "j6ZYZMSOwSSl"
   },
   "source": [
    "## 데이터 타입\n",
    "-------------"
   ]
  },
  {
   "cell_type": "markdown",
   "metadata": {
    "id": "jsp1esiEwSSm"
   },
   "source": [
    "### 숫자\n",
    "+ 정수형\n",
    "Integer\n",
    "+ 실수형\n",
    "Float\n",
    "-------------"
   ]
  },
  {
   "cell_type": "markdown",
   "metadata": {
    "id": "Gn0qRul8wSSm"
   },
   "source": [
    "####  **정수형**\n",
    "양수 , 음수 , 0 의 정수형 자료"
   ]
  },
  {
   "cell_type": "code",
   "execution_count": null,
   "metadata": {
    "id": "Gzm21pInwSSp"
   },
   "outputs": [],
   "source": [
    "type(189)\n",
    "type(-1162)\n",
    "type(0)"
   ]
  },
  {
   "cell_type": "markdown",
   "metadata": {
    "id": "4g6s2q7twSSu"
   },
   "source": [
    "####  **실수형**\n",
    "소수점이 포함되는 숫자 "
   ]
  },
  {
   "cell_type": "code",
   "execution_count": null,
   "metadata": {
    "id": "aByv_Pn0wSSu"
   },
   "outputs": [
    {
     "name": "stdout",
     "output_type": "stream",
     "text": [
      "<class 'float'>\n",
      "<class 'float'>\n",
      "<class 'float'>\n"
     ]
    }
   ],
   "source": [
    "print(type (1.19))\n",
    "print(type(-0.12))\n",
    "print(type(0.0))"
   ]
  },
  {
   "cell_type": "markdown",
   "metadata": {
    "id": "TJnLrUkMwSSw"
   },
   "source": [
    "####  **산술연산자**\n",
    "+ 덧셈(+)\n",
    "+ 뺄셈(-)\n",
    "+ 곱셈(*)\n",
    "+ 나눗셈 몫(/)\n",
    "+ 정수값의 나눗셈 몫(//)\n",
    "+ 나눗셈 나머지(%)\n",
    "+ 거듭제곱(**)"
   ]
  },
  {
   "cell_type": "code",
   "execution_count": null,
   "metadata": {
    "id": "FCDdjEiLwSSx"
   },
   "outputs": [],
   "source": [
    "a = 22 #변수 할당 시, 예약어 사용하지 않기 \n",
    "print(a)"
   ]
  },
  {
   "cell_type": "markdown",
   "metadata": {
    "id": "JvgEj9cnwSSx"
   },
   "source": [
    "+ 덧셈과 뺄셈"
   ]
  },
  {
   "cell_type": "code",
   "execution_count": null,
   "metadata": {
    "id": "OmmTTIPjwSS2"
   },
   "outputs": [],
   "source": [
    "a = 22 # a 변수에 11 저장 \n",
    "b = 10  # b 변수에 5 저장 \n",
    "\n",
    "# a + b 출력하기\n",
    "print(a + b)\n",
    "\n",
    "# a + b의 type 출력하기 \n",
    "print(type(a+b))"
   ]
  },
  {
   "cell_type": "code",
   "execution_count": null,
   "metadata": {
    "id": "oTR8uvcDwSS4"
   },
   "outputs": [],
   "source": [
    "c = 6.0\n",
    "\n",
    "# a - c 출력하기 \n",
    "print(a - c)\n",
    "\n",
    "# a - c의 type 출력하기\n",
    "# float , int 형을 이용하여 사칙연산 시행시 float 으로 변환\n",
    "print(type(a-c))"
   ]
  },
  {
   "cell_type": "markdown",
   "metadata": {
    "id": "RG_z7bQ2wSS6"
   },
   "source": [
    "+ 곱셈과 나눗셈"
   ]
  },
  {
   "cell_type": "code",
   "execution_count": null,
   "metadata": {
    "id": "72RllPc_wSS6"
   },
   "outputs": [],
   "source": [
    "a = 10\n",
    "b = 3\n",
    "\n",
    "#곱하기\n",
    "print(a * b)\n",
    "\n",
    "#나누기\n",
    "print(a / b)\n",
    "\n",
    "# 제곱\n",
    "print(a ** b)\n"
   ]
  },
  {
   "cell_type": "markdown",
   "metadata": {
    "id": "GyeMzOupwSS8"
   },
   "source": [
    "+ 몫과 나머지"
   ]
  },
  {
   "cell_type": "code",
   "execution_count": null,
   "metadata": {
    "id": "-d28K1WWwSS9",
    "scrolled": true
   },
   "outputs": [],
   "source": [
    "a = 10\n",
    "b = 3\n",
    "\n",
    "# 몫만 구하기\n",
    "print(a // b)\n",
    "\n",
    "# 나머지 반환\n",
    "print(a % b)"
   ]
  },
  {
   "cell_type": "markdown",
   "metadata": {
    "id": "Fvg5l42HwSS_"
   },
   "source": [
    "####  **복합 대입 연산자**\n",
    "+ x += y : x = x + y\n",
    "+ x -= y : x = x - y\n",
    "+ x *= y : x = x * y\n",
    "+ x /= y : x = x / y\n",
    "+ x //= y : x = x // y\n",
    "+ x %= y : x = x % y\n",
    "+ x **= y : x = x ** y"
   ]
  },
  {
   "cell_type": "code",
   "execution_count": null,
   "metadata": {
    "id": "9OBxs6CpwSS_"
   },
   "outputs": [],
   "source": [
    "x = 5\n",
    "x += 1\n",
    "print(x)"
   ]
  },
  {
   "cell_type": "markdown",
   "metadata": {
    "id": "jgHJJ6Y6wSTD"
   },
   "source": [
    "------------------------"
   ]
  },
  {
   "cell_type": "markdown",
   "metadata": {
    "id": "T4ZwYa-XwSTD"
   },
   "source": [
    "###  문자열\n",
    "+ 단어, 문자들로 구성된 집합\n",
    "+ **' '**  혹은 **\" \"**  로 둘러싸서 문자열 표현\n",
    "---------------"
   ]
  },
  {
   "cell_type": "code",
   "execution_count": 1,
   "metadata": {
    "id": "gqdsXMqQwSTG"
   },
   "outputs": [
    {
     "data": {
      "text/plain": [
       "'Hello'"
      ]
     },
     "execution_count": 1,
     "metadata": {},
     "output_type": "execute_result"
    }
   ],
   "source": [
    "'Hello'"
   ]
  },
  {
   "cell_type": "code",
   "execution_count": null,
   "metadata": {
    "id": "3SM-aJ8RwSTI"
   },
   "outputs": [],
   "source": [
    "\"안녕하세요\""
   ]
  },
  {
   "cell_type": "code",
   "execution_count": 2,
   "metadata": {
    "id": "V24OfUtNwSTK"
   },
   "outputs": [
    {
     "data": {
      "text/plain": [
       "str"
      ]
     },
     "execution_count": 2,
     "metadata": {},
     "output_type": "execute_result"
    }
   ],
   "source": [
    "type('Hello')"
   ]
  },
  {
   "cell_type": "markdown",
   "metadata": {
    "id": "bH2rZe69wSTU"
   },
   "source": [
    "***  \n",
    "> 자주 사용 되는 **`이스케이프 코드`** 알아보기\n",
    "\n",
    "    \\n\t:  문자열 안에서 줄을 바꿀 때 사용  \n",
    "    \\t\t:  문자열 사이에 탭 간격을 줄 때 사용  \n",
    "    \\\\\t:  문자 \\를 그대로 표현할 때 사용  \n",
    "    \\'\t:  작은따옴표(')를 그대로 표현할 때 사용  \n",
    "    \\\"\t:  큰따옴표(\")를 그대로 표현할 때 사용  \n",
    "***"
   ]
  },
  {
   "cell_type": "code",
   "execution_count": null,
   "metadata": {
    "id": "Z3Fw8u50wSTV"
   },
   "outputs": [],
   "source": [
    "print('Hello \\n \\t \\'World\\' \\n')"
   ]
  },
  {
   "cell_type": "markdown",
   "metadata": {
    "id": "l9d36beewSTW"
   },
   "source": [
    "####  **문자열의 사칙 연산:**\n",
    "+ 파이썬은 문자열도 덧셈과 곱셉 가능"
   ]
  },
  {
   "cell_type": "code",
   "execution_count": null,
   "metadata": {
    "colab": {
     "base_uri": "https://localhost:8080/"
    },
    "executionInfo": {
     "elapsed": 325,
     "status": "ok",
     "timestamp": 1630889840569,
     "user": {
      "displayName": "이정훈",
      "photoUrl": "",
      "userId": "09219725777925802240"
     },
     "user_tz": -540
    },
    "id": "tUgpS4lXwSTX",
    "outputId": "0862b29b-930c-4297-b6fc-2bea5a33f2ee"
   },
   "outputs": [
    {
     "name": "stdout",
     "output_type": "stream",
     "text": [
      "Hello~ Python\n"
     ]
    }
   ],
   "source": [
    "a = 'Hello~'\n",
    "b = 'Python' \n",
    "# a + b 출력하기\n",
    "print(a + ' ' + b)"
   ]
  },
  {
   "cell_type": "code",
   "execution_count": null,
   "metadata": {
    "colab": {
     "base_uri": "https://localhost:8080/"
    },
    "executionInfo": {
     "elapsed": 322,
     "status": "ok",
     "timestamp": 1630889765721,
     "user": {
      "displayName": "이정훈",
      "photoUrl": "",
      "userId": "09219725777925802240"
     },
     "user_tz": -540
    },
    "id": "jXxwvxIewSTZ",
    "outputId": "a62c3e58-9504-462b-8252-36999c57493a"
   },
   "outputs": [
    {
     "name": "stdout",
     "output_type": "stream",
     "text": [
      "Python Python \n",
      "Python Python Python Python Python Python Python Python Python Python \n"
     ]
    }
   ],
   "source": [
    "c = 'Python '\n",
    "\n",
    "print(c*2)\n",
    "print(c*10)"
   ]
  },
  {
   "cell_type": "markdown",
   "metadata": {
    "id": "eGOCTokFwSTa"
   },
   "source": [
    "####  **문자열 길이 구하기**"
   ]
  },
  {
   "cell_type": "code",
   "execution_count": null,
   "metadata": {
    "id": "Y5TJg1GEwSTb"
   },
   "outputs": [],
   "source": [
    "msg = 'Hello~ Python'\n",
    "\n",
    "len(msg) # 파이썬 내장함수인 len 은 띄어쓰기를 포함한 문자열의 길이를 반환해 줍니다"
   ]
  },
  {
   "cell_type": "markdown",
   "metadata": {
    "id": "NNczg7xjwSTd"
   },
   "source": [
    "####  **인덱싱: 원하는 특정 문자만 뽑아내기**"
   ]
  },
  {
   "cell_type": "code",
   "execution_count": null,
   "metadata": {
    "id": "FlosltrtwSTe"
   },
   "outputs": [],
   "source": [
    "msg[0]  # 첫번째 문자만 출력"
   ]
  },
  {
   "cell_type": "code",
   "execution_count": null,
   "metadata": {
    "id": "ydzMZQOGwSTm"
   },
   "outputs": [],
   "source": [
    "msg[-1]   # 마지막 문자 출력"
   ]
  },
  {
   "cell_type": "code",
   "execution_count": null,
   "metadata": {
    "id": "LghUDTxUwSTn"
   },
   "outputs": [],
   "source": [
    "msg[-6:]"
   ]
  },
  {
   "cell_type": "markdown",
   "metadata": {
    "id": "e_zMGRHYwSTp"
   },
   "source": [
    "####  **슬라이싱: 지정한 범위의 문자열 뽑아내기**"
   ]
  },
  {
   "cell_type": "code",
   "execution_count": null,
   "metadata": {
    "id": "ufYbSkYIwSTp"
   },
   "outputs": [],
   "source": [
    "msg[0:2]  # 인텍스 0은 포함, 2는 포함하지 않음. 즉 0과 1번째 문자만 뽑아냄"
   ]
  },
  {
   "cell_type": "code",
   "execution_count": null,
   "metadata": {
    "id": "6Agb9nm9wSTq"
   },
   "outputs": [],
   "source": [
    "msg[6:]  # 6번째 문자 부터 끝까지 출력"
   ]
  },
  {
   "cell_type": "code",
   "execution_count": null,
   "metadata": {
    "id": "nnHc5pk1wSTs"
   },
   "outputs": [],
   "source": [
    "msg[ :6] # 처음부터 5번째까지 출력"
   ]
  }
 ],
 "metadata": {
  "kernelspec": {
   "display_name": "Python 3.7.7 64-bit",
   "language": "python",
   "name": "python3"
  },
  "language_info": {
   "codemirror_mode": {
    "name": "ipython",
    "version": 3
   },
   "file_extension": ".py",
   "mimetype": "text/x-python",
   "name": "python",
   "nbconvert_exporter": "python",
   "pygments_lexer": "ipython3",
   "version": "3.7.7"
  },
  "orig_nbformat": 4,
  "vscode": {
   "interpreter": {
    "hash": "0931057ef0634ca0c4557a9a914f8a9538d7d70f4e82d3cb0d1f8f326f7d303f"
   }
  }
 },
 "nbformat": 4,
 "nbformat_minor": 2
}
